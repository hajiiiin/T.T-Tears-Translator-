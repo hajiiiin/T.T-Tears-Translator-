{
  "metadata": {
    "kernelspec": {
      "language": "python",
      "display_name": "Python 3",
      "name": "python3"
    },
    "language_info": {
      "name": "python",
      "version": "3.10.12",
      "mimetype": "text/x-python",
      "codemirror_mode": {
        "name": "ipython",
        "version": 3
      },
      "pygments_lexer": "ipython3",
      "nbconvert_exporter": "python",
      "file_extension": ".py"
    },
    "kaggle": {
      "accelerator": "none",
      "dataSources": [
        {
          "sourceId": 7243196,
          "sourceType": "datasetVersion",
          "datasetId": 4195468
        }
      ],
      "dockerImageVersionId": 30635,
      "isInternetEnabled": false,
      "language": "python",
      "sourceType": "notebook",
      "isGpuEnabled": false
    },
    "colab": {
      "provenance": []
    }
  },
  "nbformat_minor": 0,
  "nbformat": 4,
  "cells": [
    {
      "cell_type": "code",
      "source": [
        "import os\n",
        "import librosa\n",
        "import numpy as np\n",
        "import tensorflow as tf\n",
        "from tensorflow.keras.layers import Input, Conv2D, MaxPooling2D, Flatten, Dense, Dropout\n",
        "from tensorflow.keras.models import Model\n",
        "from tensorflow.keras.optimizers import Adam\n",
        "from tensorflow.keras.utils import to_categorical\n",
        "from tensorflow.image import resize\n",
        "from tensorflow.keras.models import load_model\n",
        "from tensorflow.keras.callbacks import EarlyStopping, ModelCheckpoint\n",
        "from tensorflow.keras.models import load_model\n",
        "from sklearn.model_selection import train_test_split"
      ],
      "metadata": {
        "_uuid": "8f2839f25d086af736a60e9eeb907d3b93b6e0e5",
        "_cell_guid": "b1076dfc-b9ad-4769-8c92-a6c4dae69d19",
        "execution": {
          "iopub.status.busy": "2024-01-20T17:51:43.741022Z",
          "iopub.execute_input": "2024-01-20T17:51:43.741429Z",
          "iopub.status.idle": "2024-01-20T17:51:43.748063Z",
          "shell.execute_reply.started": "2024-01-20T17:51:43.741399Z",
          "shell.execute_reply": "2024-01-20T17:51:43.746568Z"
        },
        "trusted": true,
        "id": "NIMd55Xyf2nI"
      },
      "execution_count": 1,
      "outputs": []
    },
    {
      "cell_type": "code",
      "source": [
        "from google.colab import drive\n",
        "drive.mount('/content/drive')"
      ],
      "metadata": {
        "colab": {
          "base_uri": "https://localhost:8080/"
        },
        "id": "Ntl4Fv7nf7LK",
        "outputId": "f440e36b-1937-4e2b-9c2b-b2c7dd578272"
      },
      "execution_count": 2,
      "outputs": [
        {
          "output_type": "stream",
          "name": "stdout",
          "text": [
            "Mounted at /content/drive\n"
          ]
        }
      ]
    },
    {
      "cell_type": "code",
      "source": [
        "data_dir = '/content/drive/MyDrive/GDSC/donateacry_corpus'\n",
        "classes = ['belly_pain','burping','discomfort','hungry','tired']"
      ],
      "metadata": {
        "execution": {
          "iopub.status.busy": "2024-01-20T17:55:06.670136Z",
          "iopub.execute_input": "2024-01-20T17:55:06.670553Z",
          "iopub.status.idle": "2024-01-20T17:55:06.675752Z",
          "shell.execute_reply.started": "2024-01-20T17:55:06.670521Z",
          "shell.execute_reply": "2024-01-20T17:55:06.674556Z"
        },
        "trusted": true,
        "id": "a60v_D2Wf2nJ"
      },
      "execution_count": 3,
      "outputs": []
    },
    {
      "cell_type": "code",
      "source": [
        "def load_and_preprocess_data(data_dir, classes, target_shape=(128, 128)):\n",
        "    data = []\n",
        "    labels = []\n",
        "\n",
        "    for i, class_name in enumerate(classes):\n",
        "        class_dir = os.path.join(data_dir, class_name)\n",
        "        for filename in os.listdir(class_dir):\n",
        "            if filename.endswith('.wav'):\n",
        "                file_path = os.path.join(class_dir, filename)\n",
        "                audio_data, sample_rate = librosa.load(file_path, sr=None)\n",
        "                mel_spectrogram = librosa.feature.melspectrogram(y=audio_data, sr=sample_rate)\n",
        "                mel_spectrogram = resize(np.expand_dims(mel_spectrogram, axis=-1), target_shape)\n",
        "                data.append(mel_spectrogram)\n",
        "                labels.append(i)\n",
        "\n",
        "    return np.array(data), np.array(labels)\n"
      ],
      "metadata": {
        "execution": {
          "iopub.status.busy": "2024-01-20T17:55:07.214987Z",
          "iopub.execute_input": "2024-01-20T17:55:07.215408Z",
          "iopub.status.idle": "2024-01-20T17:55:07.224851Z",
          "shell.execute_reply.started": "2024-01-20T17:55:07.215375Z",
          "shell.execute_reply": "2024-01-20T17:55:07.22358Z"
        },
        "trusted": true,
        "id": "8ib90V6Bf2nJ"
      },
      "execution_count": 4,
      "outputs": []
    },
    {
      "cell_type": "code",
      "source": [
        "data, labels = load_and_preprocess_data(data_dir, classes)\n",
        "labels = to_categorical(labels, num_classes=len(classes))  # Convert labels to one-hot encoding\n",
        "X_train, X_test, y_train, y_test = train_test_split(data, labels, test_size=0.2, random_state=42)"
      ],
      "metadata": {
        "execution": {
          "iopub.status.busy": "2024-01-20T17:55:09.023786Z",
          "iopub.execute_input": "2024-01-20T17:55:09.024459Z",
          "iopub.status.idle": "2024-01-20T17:55:19.71027Z",
          "shell.execute_reply.started": "2024-01-20T17:55:09.024417Z",
          "shell.execute_reply": "2024-01-20T17:55:19.708515Z"
        },
        "trusted": true,
        "id": "zktIkzxuf2nK"
      },
      "execution_count": 5,
      "outputs": []
    },
    {
      "cell_type": "code",
      "source": [
        "input_shape = X_train[0].shape\n",
        "input_layer = Input(shape=input_shape)\n",
        "x = Conv2D(32, (3, 3), activation='relu')(input_layer)\n",
        "x = MaxPooling2D((2, 2))(x)\n",
        "x = Conv2D(64, (3, 3), activation='relu')(x)\n",
        "x = MaxPooling2D((2, 2))(x)\n",
        "x = Dropout(0.25)(x)  # 드롭아웃 추가\n",
        "x = Flatten()(x)\n",
        "x = Dense(64, activation='relu')(x)\n",
        "output_layer = Dense(len(classes), activation='softmax')(x)\n",
        "model = Model(input_layer, output_layer)"
      ],
      "metadata": {
        "execution": {
          "iopub.status.busy": "2024-01-20T17:55:19.713438Z",
          "iopub.execute_input": "2024-01-20T17:55:19.714303Z",
          "iopub.status.idle": "2024-01-20T17:55:19.841833Z",
          "shell.execute_reply.started": "2024-01-20T17:55:19.714244Z",
          "shell.execute_reply": "2024-01-20T17:55:19.840537Z"
        },
        "trusted": true,
        "id": "FjuJkrNMf2nK"
      },
      "execution_count": null,
      "outputs": []
    },
    {
      "cell_type": "code",
      "source": [
        "model.compile(optimizer=Adam(learning_rate=0.001), loss='categorical_crossentropy', metrics=['accuracy'])"
      ],
      "metadata": {
        "execution": {
          "iopub.status.busy": "2024-01-20T17:55:19.843215Z",
          "iopub.execute_input": "2024-01-20T17:55:19.8436Z",
          "iopub.status.idle": "2024-01-20T17:55:19.860501Z",
          "shell.execute_reply.started": "2024-01-20T17:55:19.843571Z",
          "shell.execute_reply": "2024-01-20T17:55:19.859538Z"
        },
        "trusted": true,
        "id": "4ywwIJ3Uf2nK"
      },
      "execution_count": null,
      "outputs": []
    },
    {
      "cell_type": "code",
      "source": [
        "# 콜백 설정\n",
        "model_checkpoint = ModelCheckpoint('best_model.h5', save_best_only=True, monitor='val_accuracy')  # 모델 체크포인트 설정\n",
        "\n",
        "# 모델 훈련\n",
        "model.fit(X_train, y_train, epochs=35, batch_size=32, validation_data=(X_test, y_test),\n",
        "          callbacks=[model_checkpoint])  # 콜백 추가"
      ],
      "metadata": {
        "execution": {
          "iopub.status.busy": "2024-01-20T18:00:26.464343Z",
          "iopub.execute_input": "2024-01-20T18:00:26.465954Z",
          "iopub.status.idle": "2024-01-20T18:02:29.453544Z",
          "shell.execute_reply.started": "2024-01-20T18:00:26.465901Z",
          "shell.execute_reply": "2024-01-20T18:02:29.452288Z"
        },
        "trusted": true,
        "colab": {
          "base_uri": "https://localhost:8080/"
        },
        "id": "PESvq4-lf2nK",
        "outputId": "54d31b3f-fc3e-4434-e6b7-529d87179e17"
      },
      "execution_count": null,
      "outputs": [
        {
          "output_type": "stream",
          "name": "stdout",
          "text": [
            "Epoch 1/35\n",
            "12/12 [==============================] - 11s 834ms/step - loss: 13.2146 - accuracy: 0.6630 - val_loss: 13.3304 - val_accuracy: 0.7391\n",
            "Epoch 2/35\n"
          ]
        },
        {
          "output_type": "stream",
          "name": "stderr",
          "text": [
            "/usr/local/lib/python3.10/dist-packages/keras/src/engine/training.py:3103: UserWarning: You are saving your model as an HDF5 file via `model.save()`. This file format is considered legacy. We recommend using instead the native Keras format, e.g. `model.save('my_model.keras')`.\n",
            "  saving_api.save_model(\n"
          ]
        },
        {
          "output_type": "stream",
          "name": "stdout",
          "text": [
            "12/12 [==============================] - 8s 681ms/step - loss: 0.9731 - accuracy: 0.8329 - val_loss: 4.1517 - val_accuracy: 0.7717\n",
            "Epoch 3/35\n",
            "12/12 [==============================] - 10s 807ms/step - loss: 0.4193 - accuracy: 0.8959 - val_loss: 3.8057 - val_accuracy: 0.7609\n",
            "Epoch 4/35\n",
            "12/12 [==============================] - 9s 756ms/step - loss: 0.2611 - accuracy: 0.9260 - val_loss: 4.1866 - val_accuracy: 0.7609\n",
            "Epoch 5/35\n",
            "12/12 [==============================] - 8s 674ms/step - loss: 0.1766 - accuracy: 0.9479 - val_loss: 4.8331 - val_accuracy: 0.7609\n",
            "Epoch 6/35\n",
            "12/12 [==============================] - 9s 806ms/step - loss: 0.1542 - accuracy: 0.9562 - val_loss: 5.6359 - val_accuracy: 0.7609\n",
            "Epoch 7/35\n",
            "12/12 [==============================] - 8s 652ms/step - loss: 0.1219 - accuracy: 0.9644 - val_loss: 5.4208 - val_accuracy: 0.7609\n",
            "Epoch 8/35\n",
            "12/12 [==============================] - 9s 772ms/step - loss: 0.1143 - accuracy: 0.9616 - val_loss: 6.1389 - val_accuracy: 0.7500\n",
            "Epoch 9/35\n",
            "12/12 [==============================] - 9s 804ms/step - loss: 0.0964 - accuracy: 0.9699 - val_loss: 7.0177 - val_accuracy: 0.7500\n",
            "Epoch 10/35\n",
            "12/12 [==============================] - 8s 650ms/step - loss: 0.0849 - accuracy: 0.9726 - val_loss: 8.4135 - val_accuracy: 0.7500\n",
            "Epoch 11/35\n",
            "12/12 [==============================] - 10s 809ms/step - loss: 0.0741 - accuracy: 0.9726 - val_loss: 9.7896 - val_accuracy: 0.7500\n",
            "Epoch 12/35\n",
            "12/12 [==============================] - 9s 777ms/step - loss: 0.0839 - accuracy: 0.9781 - val_loss: 9.8414 - val_accuracy: 0.7500\n",
            "Epoch 13/35\n",
            "12/12 [==============================] - 8s 665ms/step - loss: 0.0638 - accuracy: 0.9781 - val_loss: 10.8340 - val_accuracy: 0.7609\n",
            "Epoch 14/35\n",
            "12/12 [==============================] - 9s 802ms/step - loss: 0.0564 - accuracy: 0.9836 - val_loss: 11.9315 - val_accuracy: 0.7717\n",
            "Epoch 15/35\n",
            "12/12 [==============================] - 9s 729ms/step - loss: 0.0581 - accuracy: 0.9836 - val_loss: 12.5071 - val_accuracy: 0.7717\n",
            "Epoch 16/35\n",
            "12/12 [==============================] - 9s 700ms/step - loss: 0.1234 - accuracy: 0.9836 - val_loss: 9.8101 - val_accuracy: 0.7065\n",
            "Epoch 17/35\n",
            "12/12 [==============================] - 10s 812ms/step - loss: 0.1469 - accuracy: 0.9671 - val_loss: 10.1974 - val_accuracy: 0.7609\n",
            "Epoch 18/35\n",
            "12/12 [==============================] - 8s 675ms/step - loss: 0.0641 - accuracy: 0.9781 - val_loss: 11.1453 - val_accuracy: 0.7826\n",
            "Epoch 19/35\n",
            "12/12 [==============================] - 9s 754ms/step - loss: 0.0520 - accuracy: 0.9863 - val_loss: 12.3036 - val_accuracy: 0.7826\n",
            "Epoch 20/35\n",
            "12/12 [==============================] - 10s 854ms/step - loss: 0.0460 - accuracy: 0.9863 - val_loss: 13.2189 - val_accuracy: 0.7826\n",
            "Epoch 21/35\n",
            "12/12 [==============================] - 8s 675ms/step - loss: 0.0408 - accuracy: 0.9890 - val_loss: 14.1523 - val_accuracy: 0.7935\n",
            "Epoch 22/35\n",
            "12/12 [==============================] - 9s 804ms/step - loss: 0.0381 - accuracy: 0.9890 - val_loss: 14.3218 - val_accuracy: 0.7935\n",
            "Epoch 23/35\n",
            "12/12 [==============================] - 10s 816ms/step - loss: 0.0356 - accuracy: 0.9890 - val_loss: 15.1321 - val_accuracy: 0.7935\n",
            "Epoch 24/35\n",
            "12/12 [==============================] - 8s 659ms/step - loss: 0.0335 - accuracy: 0.9890 - val_loss: 15.7942 - val_accuracy: 0.7935\n",
            "Epoch 25/35\n",
            "12/12 [==============================] - 9s 795ms/step - loss: 0.0294 - accuracy: 0.9918 - val_loss: 16.7877 - val_accuracy: 0.7935\n",
            "Epoch 26/35\n",
            "12/12 [==============================] - 9s 747ms/step - loss: 0.0286 - accuracy: 0.9918 - val_loss: 17.6407 - val_accuracy: 0.7935\n",
            "Epoch 27/35\n",
            "12/12 [==============================] - 9s 687ms/step - loss: 0.0282 - accuracy: 0.9918 - val_loss: 17.6647 - val_accuracy: 0.7826\n",
            "Epoch 28/35\n",
            "12/12 [==============================] - 10s 815ms/step - loss: 0.0264 - accuracy: 0.9918 - val_loss: 18.3488 - val_accuracy: 0.7826\n",
            "Epoch 29/35\n",
            "12/12 [==============================] - 8s 668ms/step - loss: 0.0254 - accuracy: 0.9945 - val_loss: 17.9223 - val_accuracy: 0.7826\n",
            "Epoch 30/35\n",
            "12/12 [==============================] - 9s 753ms/step - loss: 0.0536 - accuracy: 0.9890 - val_loss: 20.4240 - val_accuracy: 0.7935\n",
            "Epoch 31/35\n",
            "12/12 [==============================] - 10s 810ms/step - loss: 0.0238 - accuracy: 0.9945 - val_loss: 20.9755 - val_accuracy: 0.7935\n",
            "Epoch 32/35\n",
            "12/12 [==============================] - 8s 650ms/step - loss: 0.0225 - accuracy: 0.9945 - val_loss: 22.0413 - val_accuracy: 0.7935\n",
            "Epoch 33/35\n",
            "12/12 [==============================] - 9s 800ms/step - loss: 0.0208 - accuracy: 0.9945 - val_loss: 22.7598 - val_accuracy: 0.7935\n",
            "Epoch 34/35\n",
            "12/12 [==============================] - 9s 778ms/step - loss: 0.0179 - accuracy: 0.9945 - val_loss: 22.8904 - val_accuracy: 0.7935\n",
            "Epoch 35/35\n",
            "12/12 [==============================] - 8s 657ms/step - loss: 0.0171 - accuracy: 0.9945 - val_loss: 23.4195 - val_accuracy: 0.7935\n"
          ]
        },
        {
          "output_type": "execute_result",
          "data": {
            "text/plain": [
              "<keras.src.callbacks.History at 0x7ddb2c706860>"
            ]
          },
          "metadata": {},
          "execution_count": 39
        }
      ]
    },
    {
      "cell_type": "code",
      "source": [
        "best_model = load_model('best_model.h5')\n",
        "\n",
        "# 불러온 모델로 검증 데이터에서 평가\n",
        "loss, accuracy = best_model.evaluate(X_test, y_test)\n",
        "\n",
        "# 검증 데이터에서의 정확도 출력\n",
        "print(f\"검증 데이터 정확도: {accuracy}\")"
      ],
      "metadata": {
        "id": "1oXIKICCnQ2W"
      },
      "execution_count": null,
      "outputs": []
    },
    {
      "cell_type": "code",
      "source": [
        "# 불러온 모델로 검증 데이터에서 평가\n",
        "loss, accuracy = model.evaluate(X_test, y_test)\n",
        "\n",
        "# 검증 데이터에서의 정확도 출력\n",
        "print(f\"검증 데이터 정확도: {accuracy}\")"
      ],
      "metadata": {
        "colab": {
          "base_uri": "https://localhost:8080/"
        },
        "id": "QA330hP-1hQx",
        "outputId": "09ea5f76-a3f1-4758-9ec3-91bea13e5ddb"
      },
      "execution_count": null,
      "outputs": [
        {
          "output_type": "stream",
          "name": "stdout",
          "text": [
            "3/3 [==============================] - 1s 175ms/step - loss: 23.4195 - accuracy: 0.7935\n",
            "검증 데이터 정확도: 0.79347825050354\n"
          ]
        }
      ]
    },
    {
      "cell_type": "code",
      "source": [
        "model.save('/content/drive/MyDrive/GDSC/complete_model.h5')"
      ],
      "metadata": {
        "colab": {
          "base_uri": "https://localhost:8080/"
        },
        "id": "A8Pz4l-VnQUS",
        "outputId": "b30f2bb2-3787-4a33-ac3f-15a15e5ba9d4"
      },
      "execution_count": null,
      "outputs": [
        {
          "output_type": "stream",
          "name": "stderr",
          "text": [
            "/usr/local/lib/python3.10/dist-packages/keras/src/engine/training.py:3103: UserWarning: You are saving your model as an HDF5 file via `model.save()`. This file format is considered legacy. We recommend using instead the native Keras format, e.g. `model.save('my_model.keras')`.\n",
            "  saving_api.save_model(\n"
          ]
        }
      ]
    },
    {
      "cell_type": "markdown",
      "source": [
        "# 모델 사용 법"
      ],
      "metadata": {
        "id": "2tqfKRs7Ed1Z"
      }
    },
    {
      "cell_type": "code",
      "source": [
        "# 음성 파일 불러오기\n",
        "def predict_data(path, target_shape=(128, 128)):\n",
        "    audio_data, sample_rate = librosa.load(path, sr=None)\n",
        "    mel_spectrogram = librosa.feature.melspectrogram(y=audio_data, sr=sample_rate)\n",
        "    mel_spectrogram = resize(np.expand_dims(mel_spectrogram, axis=-1), target_shape)\n",
        "    return np.array([mel_spectrogram])"
      ],
      "metadata": {
        "id": "BHRsbtjY7CGR"
      },
      "execution_count": 23,
      "outputs": []
    },
    {
      "cell_type": "code",
      "source": [
        "model = load_model('/content/drive/MyDrive/GDSC/complete_model.h5')"
      ],
      "metadata": {
        "id": "2pDBTbhfAvQC"
      },
      "execution_count": 21,
      "outputs": []
    },
    {
      "cell_type": "code",
      "source": [
        "classes = ['belly_pain','burping','discomfort','hungry','tired']"
      ],
      "metadata": {
        "id": "ueF2HB9aBB_2"
      },
      "execution_count": null,
      "outputs": []
    },
    {
      "cell_type": "code",
      "source": [
        "path = \"/content/drive/MyDrive/GDSC/donateacry_corpus/belly_pain/549a46d8-9c84-430e-ade8-97eae2bef787-1430130772174-1.7-m-48-bp.wav\"\n",
        "\n",
        "X_new = predict_data(path)\n",
        "# 새로운 데이터에 대한 예측 수행\n",
        "predictions = model.predict(X_new)\n",
        "\n",
        "# 예측 결과 출력\n",
        "for i, prediction in enumerate(predictions):\n",
        "    predicted_class = np.argmax(prediction)\n",
        "    print(f\"샘플 {i}: 예측된 클래스 = {classes[predicted_class]}\")"
      ],
      "metadata": {
        "colab": {
          "base_uri": "https://localhost:8080/"
        },
        "id": "Dqv3pqejAFP8",
        "outputId": "16c99995-afc7-4f56-c004-2caac41142c7"
      },
      "execution_count": 25,
      "outputs": [
        {
          "output_type": "stream",
          "name": "stdout",
          "text": [
            "1/1 [==============================] - 0s 40ms/step\n",
            "샘플 0: 예측된 클래스 = hungry\n"
          ]
        }
      ]
    }
  ]
}